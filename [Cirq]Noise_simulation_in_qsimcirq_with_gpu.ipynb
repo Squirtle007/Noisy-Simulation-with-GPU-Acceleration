{
  "metadata": {
    "language_info": {
      "codemirror_mode": {
        "name": "ipython",
        "version": 3
      },
      "file_extension": ".py",
      "mimetype": "text/x-python",
      "name": "python",
      "nbconvert_exporter": "python",
      "pygments_lexer": "ipython3",
      "version": "3.9.2"
    },
    "orig_nbformat": 2,
    "kernelspec": {
      "name": "python392jvsc74a57bd0916dbcbb3f70747c44a77c7bcd40155683ae19c65e1c03b4aa3499c5328201f1",
      "display_name": "Python 3.9.2 64-bit"
    },
    "metadata": {
      "interpreter": {
        "hash": "916dbcbb3f70747c44a77c7bcd40155683ae19c65e1c03b4aa3499c5328201f1"
      }
    },
    "colab": {
      "provenance": [],
      "gpuType": "T4",
      "include_colab_link": true
    },
    "accelerator": "GPU"
  },
  "nbformat": 4,
  "nbformat_minor": 0,
  "cells": [
    {
      "cell_type": "markdown",
      "metadata": {
        "id": "view-in-github",
        "colab_type": "text"
      },
      "source": [
        "<a href=\"https://colab.research.google.com/github/Squirtle007/Noisy-Simulation-with-GPU-Acceleration/blob/main/%5BCirq%5DNoise_simulation_in_qsimcirq_with_gpu.ipynb\" target=\"_parent\"><img src=\"https://colab.research.google.com/assets/colab-badge.svg\" alt=\"Open In Colab\"/></a>"
      ]
    },
    {
      "cell_type": "markdown",
      "source": [
        "#**GPU-Accelerated Noise Simulation in qsimcirq**\n",
        "\n",
        "Based on the [tutorial](https://quantumai.google/qsim/tutorials/noisy_qsimcirq).\n",
        "\n",
        "Note that [**qsimcirq.QSimSimulator**](https://quantumai.google/reference/python/qsimcirq/QSimSimulator) is supported by **cuQuantum**, only **gpu_mode=1** needs to be specified in **qsim_options**:\n",
        "```\n",
        "options = qsimcirq.QSimOptions(ev_noisy_repetitions=100, gpu_mode=1)\n",
        "ev_simulator = qsimcirq.QSimSimulat(qsim_options=options, seed=1)\n",
        "```"
      ],
      "metadata": {
        "id": "oTuy1fAQP1n5"
      }
    },
    {
      "cell_type": "markdown",
      "source": [
        "Reference:\n",
        "\n",
        "[1] [cuQuantum SDK: A High-Performance Library for\n",
        "Accelerating Quantum Science](https://arxiv.org/pdf/2308.01999.pdf)\n",
        "\n",
        "[2] [Simulations of Quantum Circuits with Approximate Noise\n",
        "using qsim and Cirq](https://arxiv.org/pdf/2111.02396.pdf)"
      ],
      "metadata": {
        "id": "VmyWVD3ETvk5"
      }
    },
    {
      "cell_type": "code",
      "source": [
        "# Download Miniconda installer\n",
        "!wget -c https://repo.anaconda.com/miniconda/Miniconda3-latest-Linux-x86_64.sh\n",
        "!ls    #(List files in the current directory)\n",
        "!chmod +x Miniconda3-latest-Linux-x86_64.sh    #(Make the Miniconda installer executable)\n",
        "\n",
        "\n",
        "# Set python environment to default and install Miniconda\n",
        "%env PYTHONPATH=\n",
        "!./Miniconda3-latest-Linux-x86_64.sh -b -f -p /usr/local\n",
        "\n",
        "# Add Miniconda to sys.path\n",
        "import sys\n",
        "sys.path.append(\"/usr/local/lib/python3.10/site-packages\")\n",
        "\n",
        "# Install conda and specify Python version\n",
        "!conda install --channel defaults conda python=3.10 --yes\n",
        "\n",
        "# Update all conda packages\n",
        "!conda update --channel defaults --all --yes\n",
        "\n",
        "# Install all necessary packages from conda-forge\n",
        "!conda install -c conda-forge cuquantum==23.10.0.6 cuquantum-python==23.10.0 -y"
      ],
      "metadata": {
        "colab": {
          "base_uri": "https://localhost:8080/"
        },
        "id": "k-j9MZSkPkgK",
        "outputId": "8275dbbe-2a11-4033-f7bd-f3ea919e9bfd"
      },
      "execution_count": 11,
      "outputs": [
        {
          "output_type": "stream",
          "name": "stdout",
          "text": [
            "--2024-04-15 10:23:09--  https://repo.anaconda.com/miniconda/Miniconda3-latest-Linux-x86_64.sh\n",
            "Resolving repo.anaconda.com (repo.anaconda.com)... 104.16.191.158, 104.16.32.241, 2606:4700::6810:20f1, ...\n",
            "Connecting to repo.anaconda.com (repo.anaconda.com)|104.16.191.158|:443... connected.\n",
            "HTTP request sent, awaiting response... 416 Range Not Satisfiable\n",
            "\n",
            "    The file is already fully retrieved; nothing to do.\n",
            "\n",
            "Miniconda3-latest-Linux-x86_64.sh  sample_data\n",
            "env: PYTHONPATH=\n",
            "PREFIX=/usr/local\n",
            "Unpacking payload ...\n",
            "Exception ignored in: <module 'threading' from '/usr/local/install_tmp/_MEI7EnNUG/threading.pyc'>\n",
            "Traceback (most recent call last):\n",
            "  File \"threading.py\", line 1537, in _shutdown\n",
            "  File \"concurrent/futures/process.py\", line 93, in _python_exit\n",
            "  File \"concurrent/futures/process.py\", line 79, in wakeup\n",
            "  File \"multiprocessing/connection.py\", line 200, in send_bytes\n",
            "  File \"multiprocessing/connection.py\", line 411, in _send_bytes\n",
            "  File \"multiprocessing/connection.py\", line 368, in _send\n",
            "OSError: [Errno 9] Bad file descriptor\n",
            "\n",
            "Installing base environment...\n",
            "\n",
            "\n",
            "Downloading and Extracting Packages:\n",
            "\n",
            "\n",
            "Downloading and Extracting Packages:\n",
            "\n",
            "Preparing transaction: - \b\b\\ \b\b| \b\bdone\n",
            "Executing transaction: - \b\b\\ \b\b| \b\b/ \b\b- \b\b\\ \b\b| \b\b/ \b\b- \b\b\\ \b\b| \b\b/ \b\b- \b\b\\ \b\b| \b\b/ \b\b- \b\b\\ \b\b| \b\b/ \b\b- \b\b\\ \b\b| \b\b/ \b\b- \b\b\\ \b\b| \b\b/ \b\b- \b\bdone\n",
            "installation finished.\n",
            "Traceback (most recent call last):\n",
            "  File \"/usr/local/lib/python3.12/site-packages/requests/compat.py\", line 11, in <module>\n",
            "    import chardet\n",
            "ModuleNotFoundError: No module named 'chardet'\n",
            "\n",
            "During handling of the above exception, another exception occurred:\n",
            "\n",
            "Traceback (most recent call last):\n",
            "  File \"/usr/local/lib/python3.12/site-packages/conda/exception_handler.py\", line 17, in __call__\n",
            "    return func(*args, **kwargs)\n",
            "           ^^^^^^^^^^^^^^^^^^^^^\n",
            "  File \"/usr/local/lib/python3.12/site-packages/conda/cli/main.py\", line 51, in main_subshell\n",
            "    from .conda_argparse import do_call, generate_parser, generate_pre_parser\n",
            "  File \"/usr/local/lib/python3.12/site-packages/conda/cli/conda_argparse.py\", line 50, in <module>\n",
            "    from .main_create import configure_parser as configure_parser_create\n",
            "  File \"/usr/local/lib/python3.12/site-packages/conda/cli/main_create.py\", line 11, in <module>\n",
            "    from ..notices import notices\n",
            "  File \"/usr/local/lib/python3.12/site-packages/conda/notices/__init__.py\", line 3, in <module>\n",
            "    from .core import notices  # noqa: F401\n",
            "    ^^^^^^^^^^^^^^^^^^^^^^^^^\n",
            "  File \"/usr/local/lib/python3.12/site-packages/conda/notices/core.py\", line 14, in <module>\n",
            "    from . import cache, fetch, views\n",
            "  File \"/usr/local/lib/python3.12/site-packages/conda/notices/cache.py\", line 25, in <module>\n",
            "    from ..utils import ensure_dir_exists\n",
            "  File \"/usr/local/lib/python3.12/site-packages/conda/utils.py\", line 23, in <module>\n",
            "    from .gateways.disk.read import compute_sum\n",
            "  File \"/usr/local/lib/python3.12/site-packages/conda/gateways/disk/read.py\", line 31, in <module>\n",
            "    from ...exceptions import CondaUpgradeError, CondaVerificationError, PathNotFoundError\n",
            "  File \"/usr/local/lib/python3.12/site-packages/conda/exceptions.py\", line 15, in <module>\n",
            "    import requests\n",
            "  File \"/usr/local/lib/python3.12/site-packages/requests/__init__.py\", line 45, in <module>\n",
            "    from .exceptions import RequestsDependencyWarning\n",
            "  File \"/usr/local/lib/python3.12/site-packages/requests/exceptions.py\", line 9, in <module>\n",
            "    from .compat import JSONDecodeError as CompatJSONDecodeError\n",
            "  File \"/usr/local/lib/python3.12/site-packages/requests/compat.py\", line 13, in <module>\n",
            "    import charset_normalizer as chardet\n",
            "ModuleNotFoundError: No module named 'charset_normalizer'\n",
            "\n",
            "During handling of the above exception, another exception occurred:\n",
            "\n",
            "Traceback (most recent call last):\n",
            "  File \"/usr/local/lib/python3.12/site-packages/requests/compat.py\", line 11, in <module>\n",
            "    import chardet\n",
            "ModuleNotFoundError: No module named 'chardet'\n",
            "\n",
            "During handling of the above exception, another exception occurred:\n",
            "\n",
            "Traceback (most recent call last):\n",
            "  File \"/usr/local/bin/conda\", line 13, in <module>\n",
            "    sys.exit(main())\n",
            "             ^^^^^^\n",
            "  File \"/usr/local/lib/python3.12/site-packages/conda/cli/main.py\", line 128, in main\n",
            "    return conda_exception_handler(main, *args, **kwargs)\n",
            "           ^^^^^^^^^^^^^^^^^^^^^^^^^^^^^^^^^^^^^^^^^^^^^^\n",
            "  File \"/usr/local/lib/python3.12/site-packages/conda/exception_handler.py\", line 388, in conda_exception_handler\n",
            "    return_value = exception_handler(func, *args, **kwargs)\n",
            "                   ^^^^^^^^^^^^^^^^^^^^^^^^^^^^^^^^^^^^^^^^\n",
            "  File \"/usr/local/lib/python3.12/site-packages/conda/exception_handler.py\", line 20, in __call__\n",
            "    return self.handle_exception(exc_val, exc_tb)\n",
            "           ^^^^^^^^^^^^^^^^^^^^^^^^^^^^^^^^^^^^^^\n",
            "  File \"/usr/local/lib/python3.12/site-packages/conda/exception_handler.py\", line 51, in handle_exception\n",
            "    from .exceptions import (\n",
            "  File \"/usr/local/lib/python3.12/site-packages/conda/exceptions.py\", line 15, in <module>\n",
            "    import requests\n",
            "  File \"/usr/local/lib/python3.12/site-packages/requests/__init__.py\", line 45, in <module>\n",
            "    from .exceptions import RequestsDependencyWarning\n",
            "  File \"/usr/local/lib/python3.12/site-packages/requests/exceptions.py\", line 9, in <module>\n",
            "    from .compat import JSONDecodeError as CompatJSONDecodeError\n",
            "  File \"/usr/local/lib/python3.12/site-packages/requests/compat.py\", line 13, in <module>\n",
            "    import charset_normalizer as chardet\n",
            "ModuleNotFoundError: No module named 'charset_normalizer'\n",
            "Traceback (most recent call last):\n",
            "  File \"/usr/local/lib/python3.12/site-packages/requests/compat.py\", line 11, in <module>\n",
            "    import chardet\n",
            "ModuleNotFoundError: No module named 'chardet'\n",
            "\n",
            "During handling of the above exception, another exception occurred:\n",
            "\n",
            "Traceback (most recent call last):\n",
            "  File \"/usr/local/lib/python3.12/site-packages/conda/exception_handler.py\", line 17, in __call__\n",
            "    return func(*args, **kwargs)\n",
            "           ^^^^^^^^^^^^^^^^^^^^^\n",
            "  File \"/usr/local/lib/python3.12/site-packages/conda/cli/main.py\", line 51, in main_subshell\n",
            "    from .conda_argparse import do_call, generate_parser, generate_pre_parser\n",
            "  File \"/usr/local/lib/python3.12/site-packages/conda/cli/conda_argparse.py\", line 50, in <module>\n",
            "    from .main_create import configure_parser as configure_parser_create\n",
            "  File \"/usr/local/lib/python3.12/site-packages/conda/cli/main_create.py\", line 11, in <module>\n",
            "    from ..notices import notices\n",
            "  File \"/usr/local/lib/python3.12/site-packages/conda/notices/__init__.py\", line 3, in <module>\n",
            "    from .core import notices  # noqa: F401\n",
            "    ^^^^^^^^^^^^^^^^^^^^^^^^^\n",
            "  File \"/usr/local/lib/python3.12/site-packages/conda/notices/core.py\", line 14, in <module>\n",
            "    from . import cache, fetch, views\n",
            "  File \"/usr/local/lib/python3.12/site-packages/conda/notices/cache.py\", line 25, in <module>\n",
            "    from ..utils import ensure_dir_exists\n",
            "  File \"/usr/local/lib/python3.12/site-packages/conda/utils.py\", line 23, in <module>\n",
            "    from .gateways.disk.read import compute_sum\n",
            "  File \"/usr/local/lib/python3.12/site-packages/conda/gateways/disk/read.py\", line 31, in <module>\n",
            "    from ...exceptions import CondaUpgradeError, CondaVerificationError, PathNotFoundError\n",
            "  File \"/usr/local/lib/python3.12/site-packages/conda/exceptions.py\", line 15, in <module>\n",
            "    import requests\n",
            "  File \"/usr/local/lib/python3.12/site-packages/requests/__init__.py\", line 45, in <module>\n",
            "    from .exceptions import RequestsDependencyWarning\n",
            "  File \"/usr/local/lib/python3.12/site-packages/requests/exceptions.py\", line 9, in <module>\n",
            "    from .compat import JSONDecodeError as CompatJSONDecodeError\n",
            "  File \"/usr/local/lib/python3.12/site-packages/requests/compat.py\", line 13, in <module>\n",
            "    import charset_normalizer as chardet\n",
            "ModuleNotFoundError: No module named 'charset_normalizer'\n",
            "\n",
            "During handling of the above exception, another exception occurred:\n",
            "\n",
            "Traceback (most recent call last):\n",
            "  File \"/usr/local/lib/python3.12/site-packages/requests/compat.py\", line 11, in <module>\n",
            "    import chardet\n",
            "ModuleNotFoundError: No module named 'chardet'\n",
            "\n",
            "During handling of the above exception, another exception occurred:\n",
            "\n",
            "Traceback (most recent call last):\n",
            "  File \"/usr/local/bin/conda\", line 13, in <module>\n",
            "    sys.exit(main())\n",
            "             ^^^^^^\n",
            "  File \"/usr/local/lib/python3.12/site-packages/conda/cli/main.py\", line 128, in main\n",
            "    return conda_exception_handler(main, *args, **kwargs)\n",
            "           ^^^^^^^^^^^^^^^^^^^^^^^^^^^^^^^^^^^^^^^^^^^^^^\n",
            "  File \"/usr/local/lib/python3.12/site-packages/conda/exception_handler.py\", line 388, in conda_exception_handler\n",
            "    return_value = exception_handler(func, *args, **kwargs)\n",
            "                   ^^^^^^^^^^^^^^^^^^^^^^^^^^^^^^^^^^^^^^^^\n",
            "  File \"/usr/local/lib/python3.12/site-packages/conda/exception_handler.py\", line 20, in __call__\n",
            "    return self.handle_exception(exc_val, exc_tb)\n",
            "           ^^^^^^^^^^^^^^^^^^^^^^^^^^^^^^^^^^^^^^\n",
            "  File \"/usr/local/lib/python3.12/site-packages/conda/exception_handler.py\", line 51, in handle_exception\n",
            "    from .exceptions import (\n",
            "  File \"/usr/local/lib/python3.12/site-packages/conda/exceptions.py\", line 15, in <module>\n",
            "    import requests\n",
            "  File \"/usr/local/lib/python3.12/site-packages/requests/__init__.py\", line 45, in <module>\n",
            "    from .exceptions import RequestsDependencyWarning\n",
            "  File \"/usr/local/lib/python3.12/site-packages/requests/exceptions.py\", line 9, in <module>\n",
            "    from .compat import JSONDecodeError as CompatJSONDecodeError\n",
            "  File \"/usr/local/lib/python3.12/site-packages/requests/compat.py\", line 13, in <module>\n",
            "    import charset_normalizer as chardet\n",
            "ModuleNotFoundError: No module named 'charset_normalizer'\n",
            "Traceback (most recent call last):\n",
            "  File \"/usr/local/lib/python3.12/site-packages/requests/compat.py\", line 11, in <module>\n",
            "    import chardet\n",
            "ModuleNotFoundError: No module named 'chardet'\n",
            "\n",
            "During handling of the above exception, another exception occurred:\n",
            "\n",
            "Traceback (most recent call last):\n",
            "  File \"/usr/local/lib/python3.12/site-packages/conda/exception_handler.py\", line 17, in __call__\n",
            "    return func(*args, **kwargs)\n",
            "           ^^^^^^^^^^^^^^^^^^^^^\n",
            "  File \"/usr/local/lib/python3.12/site-packages/conda/cli/main.py\", line 51, in main_subshell\n",
            "    from .conda_argparse import do_call, generate_parser, generate_pre_parser\n",
            "  File \"/usr/local/lib/python3.12/site-packages/conda/cli/conda_argparse.py\", line 50, in <module>\n",
            "    from .main_create import configure_parser as configure_parser_create\n",
            "  File \"/usr/local/lib/python3.12/site-packages/conda/cli/main_create.py\", line 11, in <module>\n",
            "    from ..notices import notices\n",
            "  File \"/usr/local/lib/python3.12/site-packages/conda/notices/__init__.py\", line 3, in <module>\n",
            "    from .core import notices  # noqa: F401\n",
            "    ^^^^^^^^^^^^^^^^^^^^^^^^^\n",
            "  File \"/usr/local/lib/python3.12/site-packages/conda/notices/core.py\", line 14, in <module>\n",
            "    from . import cache, fetch, views\n",
            "  File \"/usr/local/lib/python3.12/site-packages/conda/notices/cache.py\", line 25, in <module>\n",
            "    from ..utils import ensure_dir_exists\n",
            "  File \"/usr/local/lib/python3.12/site-packages/conda/utils.py\", line 23, in <module>\n",
            "    from .gateways.disk.read import compute_sum\n",
            "  File \"/usr/local/lib/python3.12/site-packages/conda/gateways/disk/read.py\", line 31, in <module>\n",
            "    from ...exceptions import CondaUpgradeError, CondaVerificationError, PathNotFoundError\n",
            "  File \"/usr/local/lib/python3.12/site-packages/conda/exceptions.py\", line 15, in <module>\n",
            "    import requests\n",
            "  File \"/usr/local/lib/python3.12/site-packages/requests/__init__.py\", line 45, in <module>\n",
            "    from .exceptions import RequestsDependencyWarning\n",
            "  File \"/usr/local/lib/python3.12/site-packages/requests/exceptions.py\", line 9, in <module>\n",
            "    from .compat import JSONDecodeError as CompatJSONDecodeError\n",
            "  File \"/usr/local/lib/python3.12/site-packages/requests/compat.py\", line 13, in <module>\n",
            "    import charset_normalizer as chardet\n",
            "ModuleNotFoundError: No module named 'charset_normalizer'\n",
            "\n",
            "During handling of the above exception, another exception occurred:\n",
            "\n",
            "Traceback (most recent call last):\n",
            "  File \"/usr/local/lib/python3.12/site-packages/requests/compat.py\", line 11, in <module>\n",
            "    import chardet\n",
            "ModuleNotFoundError: No module named 'chardet'\n",
            "\n",
            "During handling of the above exception, another exception occurred:\n",
            "\n",
            "Traceback (most recent call last):\n",
            "  File \"/usr/local/bin/conda\", line 13, in <module>\n",
            "    sys.exit(main())\n",
            "             ^^^^^^\n",
            "  File \"/usr/local/lib/python3.12/site-packages/conda/cli/main.py\", line 128, in main\n",
            "    return conda_exception_handler(main, *args, **kwargs)\n",
            "           ^^^^^^^^^^^^^^^^^^^^^^^^^^^^^^^^^^^^^^^^^^^^^^\n",
            "  File \"/usr/local/lib/python3.12/site-packages/conda/exception_handler.py\", line 388, in conda_exception_handler\n",
            "    return_value = exception_handler(func, *args, **kwargs)\n",
            "                   ^^^^^^^^^^^^^^^^^^^^^^^^^^^^^^^^^^^^^^^^\n",
            "  File \"/usr/local/lib/python3.12/site-packages/conda/exception_handler.py\", line 20, in __call__\n",
            "    return self.handle_exception(exc_val, exc_tb)\n",
            "           ^^^^^^^^^^^^^^^^^^^^^^^^^^^^^^^^^^^^^^\n",
            "  File \"/usr/local/lib/python3.12/site-packages/conda/exception_handler.py\", line 51, in handle_exception\n",
            "    from .exceptions import (\n",
            "  File \"/usr/local/lib/python3.12/site-packages/conda/exceptions.py\", line 15, in <module>\n",
            "    import requests\n",
            "  File \"/usr/local/lib/python3.12/site-packages/requests/__init__.py\", line 45, in <module>\n",
            "    from .exceptions import RequestsDependencyWarning\n",
            "  File \"/usr/local/lib/python3.12/site-packages/requests/exceptions.py\", line 9, in <module>\n",
            "    from .compat import JSONDecodeError as CompatJSONDecodeError\n",
            "  File \"/usr/local/lib/python3.12/site-packages/requests/compat.py\", line 13, in <module>\n",
            "    import charset_normalizer as chardet\n",
            "ModuleNotFoundError: No module named 'charset_normalizer'\n"
          ]
        }
      ]
    },
    {
      "cell_type": "code",
      "source": [
        "!conda install -c conda-forge cirq==1.3.0 -y"
      ],
      "metadata": {
        "colab": {
          "base_uri": "https://localhost:8080/"
        },
        "id": "0j-3hk3VQTC1",
        "outputId": "4c483e1f-2ddf-4557-d767-fe19f18a804a"
      },
      "execution_count": 12,
      "outputs": [
        {
          "output_type": "stream",
          "name": "stdout",
          "text": [
            "Traceback (most recent call last):\n",
            "  File \"/usr/local/lib/python3.12/site-packages/requests/compat.py\", line 11, in <module>\n",
            "    import chardet\n",
            "ModuleNotFoundError: No module named 'chardet'\n",
            "\n",
            "During handling of the above exception, another exception occurred:\n",
            "\n",
            "Traceback (most recent call last):\n",
            "  File \"/usr/local/lib/python3.12/site-packages/conda/exception_handler.py\", line 17, in __call__\n",
            "    return func(*args, **kwargs)\n",
            "           ^^^^^^^^^^^^^^^^^^^^^\n",
            "  File \"/usr/local/lib/python3.12/site-packages/conda/cli/main.py\", line 51, in main_subshell\n",
            "    from .conda_argparse import do_call, generate_parser, generate_pre_parser\n",
            "  File \"/usr/local/lib/python3.12/site-packages/conda/cli/conda_argparse.py\", line 50, in <module>\n",
            "    from .main_create import configure_parser as configure_parser_create\n",
            "  File \"/usr/local/lib/python3.12/site-packages/conda/cli/main_create.py\", line 11, in <module>\n",
            "    from ..notices import notices\n",
            "  File \"/usr/local/lib/python3.12/site-packages/conda/notices/__init__.py\", line 3, in <module>\n",
            "    from .core import notices  # noqa: F401\n",
            "    ^^^^^^^^^^^^^^^^^^^^^^^^^\n",
            "  File \"/usr/local/lib/python3.12/site-packages/conda/notices/core.py\", line 14, in <module>\n",
            "    from . import cache, fetch, views\n",
            "  File \"/usr/local/lib/python3.12/site-packages/conda/notices/cache.py\", line 25, in <module>\n",
            "    from ..utils import ensure_dir_exists\n",
            "  File \"/usr/local/lib/python3.12/site-packages/conda/utils.py\", line 23, in <module>\n",
            "    from .gateways.disk.read import compute_sum\n",
            "  File \"/usr/local/lib/python3.12/site-packages/conda/gateways/disk/read.py\", line 31, in <module>\n",
            "    from ...exceptions import CondaUpgradeError, CondaVerificationError, PathNotFoundError\n",
            "  File \"/usr/local/lib/python3.12/site-packages/conda/exceptions.py\", line 15, in <module>\n",
            "    import requests\n",
            "  File \"/usr/local/lib/python3.12/site-packages/requests/__init__.py\", line 45, in <module>\n",
            "    from .exceptions import RequestsDependencyWarning\n",
            "  File \"/usr/local/lib/python3.12/site-packages/requests/exceptions.py\", line 9, in <module>\n",
            "    from .compat import JSONDecodeError as CompatJSONDecodeError\n",
            "  File \"/usr/local/lib/python3.12/site-packages/requests/compat.py\", line 13, in <module>\n",
            "    import charset_normalizer as chardet\n",
            "ModuleNotFoundError: No module named 'charset_normalizer'\n",
            "\n",
            "During handling of the above exception, another exception occurred:\n",
            "\n",
            "Traceback (most recent call last):\n",
            "  File \"/usr/local/lib/python3.12/site-packages/requests/compat.py\", line 11, in <module>\n",
            "    import chardet\n",
            "ModuleNotFoundError: No module named 'chardet'\n",
            "\n",
            "During handling of the above exception, another exception occurred:\n",
            "\n",
            "Traceback (most recent call last):\n",
            "  File \"/usr/local/bin/conda\", line 13, in <module>\n",
            "    sys.exit(main())\n",
            "             ^^^^^^\n",
            "  File \"/usr/local/lib/python3.12/site-packages/conda/cli/main.py\", line 128, in main\n",
            "    return conda_exception_handler(main, *args, **kwargs)\n",
            "           ^^^^^^^^^^^^^^^^^^^^^^^^^^^^^^^^^^^^^^^^^^^^^^\n",
            "  File \"/usr/local/lib/python3.12/site-packages/conda/exception_handler.py\", line 388, in conda_exception_handler\n",
            "    return_value = exception_handler(func, *args, **kwargs)\n",
            "                   ^^^^^^^^^^^^^^^^^^^^^^^^^^^^^^^^^^^^^^^^\n",
            "  File \"/usr/local/lib/python3.12/site-packages/conda/exception_handler.py\", line 20, in __call__\n",
            "    return self.handle_exception(exc_val, exc_tb)\n",
            "           ^^^^^^^^^^^^^^^^^^^^^^^^^^^^^^^^^^^^^^\n",
            "  File \"/usr/local/lib/python3.12/site-packages/conda/exception_handler.py\", line 51, in handle_exception\n",
            "    from .exceptions import (\n",
            "  File \"/usr/local/lib/python3.12/site-packages/conda/exceptions.py\", line 15, in <module>\n",
            "    import requests\n",
            "  File \"/usr/local/lib/python3.12/site-packages/requests/__init__.py\", line 45, in <module>\n",
            "    from .exceptions import RequestsDependencyWarning\n",
            "  File \"/usr/local/lib/python3.12/site-packages/requests/exceptions.py\", line 9, in <module>\n",
            "    from .compat import JSONDecodeError as CompatJSONDecodeError\n",
            "  File \"/usr/local/lib/python3.12/site-packages/requests/compat.py\", line 13, in <module>\n",
            "    import charset_normalizer as chardet\n",
            "ModuleNotFoundError: No module named 'charset_normalizer'\n"
          ]
        }
      ]
    },
    {
      "cell_type": "code",
      "source": [
        "!pip install qsimcirq==0.21.0"
      ],
      "metadata": {
        "colab": {
          "base_uri": "https://localhost:8080/",
          "height": 1000
        },
        "id": "Ik0e7i0tQT7_",
        "outputId": "4303f093-3375-4ec8-ba62-d7d67c6a8a0e"
      },
      "execution_count": 13,
      "outputs": [
        {
          "output_type": "stream",
          "name": "stdout",
          "text": [
            "Collecting qsimcirq==0.21.0\n",
            "  Downloading qsimcirq-0.21.0-cp312-cp312-manylinux_2_17_x86_64.manylinux2014_x86_64.whl.metadata (6.4 kB)\n",
            "Collecting absl-py (from qsimcirq==0.21.0)\n",
            "  Using cached absl_py-2.1.0-py3-none-any.whl.metadata (2.3 kB)\n",
            "Collecting cirq-core~=1.0 (from qsimcirq==0.21.0)\n",
            "  Downloading cirq_core-1.3.0-py3-none-any.whl.metadata (1.9 kB)\n",
            "Collecting numpy~=1.16 (from qsimcirq==0.21.0)\n",
            "  Downloading numpy-1.26.4-cp312-cp312-manylinux_2_17_x86_64.manylinux2014_x86_64.whl.metadata (61 kB)\n",
            "\u001b[2K     \u001b[90m━━━━━━━━━━━━━━━━━━━━━━━━━━━━━━━━━━━━━━━━\u001b[0m \u001b[32m61.0/61.0 kB\u001b[0m \u001b[31m1.0 MB/s\u001b[0m eta \u001b[36m0:00:00\u001b[0m\n",
            "\u001b[?25hCollecting pybind11 (from qsimcirq==0.21.0)\n",
            "  Using cached pybind11-2.12.0-py3-none-any.whl.metadata (9.5 kB)\n",
            "Collecting typing-extensions (from qsimcirq==0.21.0)\n",
            "  Downloading typing_extensions-4.11.0-py3-none-any.whl.metadata (3.0 kB)\n",
            "Requirement already satisfied: setuptools in /usr/local/lib/python3.12/site-packages (from qsimcirq==0.21.0) (68.2.2)\n",
            "Collecting duet~=0.2.8 (from cirq-core~=1.0->qsimcirq==0.21.0)\n",
            "  Downloading duet-0.2.9-py3-none-any.whl.metadata (2.3 kB)\n",
            "Collecting matplotlib~=3.0 (from cirq-core~=1.0->qsimcirq==0.21.0)\n",
            "  Downloading matplotlib-3.8.4-cp312-cp312-manylinux_2_17_x86_64.manylinux2014_x86_64.whl.metadata (5.8 kB)\n",
            "Collecting networkx>=2.4 (from cirq-core~=1.0->qsimcirq==0.21.0)\n",
            "  Downloading networkx-3.3-py3-none-any.whl.metadata (5.1 kB)\n",
            "Collecting pandas (from cirq-core~=1.0->qsimcirq==0.21.0)\n",
            "  Downloading pandas-2.2.2-cp312-cp312-manylinux_2_17_x86_64.manylinux2014_x86_64.whl.metadata (19 kB)\n",
            "Collecting sortedcontainers~=2.0 (from cirq-core~=1.0->qsimcirq==0.21.0)\n",
            "  Downloading sortedcontainers-2.4.0-py2.py3-none-any.whl.metadata (10 kB)\n",
            "Collecting scipy (from cirq-core~=1.0->qsimcirq==0.21.0)\n",
            "  Downloading scipy-1.13.0-cp312-cp312-manylinux_2_17_x86_64.manylinux2014_x86_64.whl.metadata (60 kB)\n",
            "\u001b[2K     \u001b[90m━━━━━━━━━━━━━━━━━━━━━━━━━━━━━━━━━━━━━━━━\u001b[0m \u001b[32m60.6/60.6 kB\u001b[0m \u001b[31m3.0 MB/s\u001b[0m eta \u001b[36m0:00:00\u001b[0m\n",
            "\u001b[?25hCollecting sympy (from cirq-core~=1.0->qsimcirq==0.21.0)\n",
            "  Downloading sympy-1.12-py3-none-any.whl.metadata (12 kB)\n",
            "Requirement already satisfied: tqdm in /usr/local/lib/python3.12/site-packages (from cirq-core~=1.0->qsimcirq==0.21.0) (4.65.0)\n",
            "Collecting contourpy>=1.0.1 (from matplotlib~=3.0->cirq-core~=1.0->qsimcirq==0.21.0)\n",
            "  Downloading contourpy-1.2.1-cp312-cp312-manylinux_2_17_x86_64.manylinux2014_x86_64.whl.metadata (5.8 kB)\n",
            "Collecting cycler>=0.10 (from matplotlib~=3.0->cirq-core~=1.0->qsimcirq==0.21.0)\n",
            "  Downloading cycler-0.12.1-py3-none-any.whl.metadata (3.8 kB)\n",
            "Collecting fonttools>=4.22.0 (from matplotlib~=3.0->cirq-core~=1.0->qsimcirq==0.21.0)\n",
            "  Downloading fonttools-4.51.0-cp312-cp312-manylinux_2_5_x86_64.manylinux1_x86_64.manylinux_2_17_x86_64.manylinux2014_x86_64.whl.metadata (159 kB)\n",
            "\u001b[2K     \u001b[90m━━━━━━━━━━━━━━━━━━━━━━━━━━━━━━━━━━━━━━━━\u001b[0m \u001b[32m159.5/159.5 kB\u001b[0m \u001b[31m3.0 MB/s\u001b[0m eta \u001b[36m0:00:00\u001b[0m\n",
            "\u001b[?25hCollecting kiwisolver>=1.3.1 (from matplotlib~=3.0->cirq-core~=1.0->qsimcirq==0.21.0)\n",
            "  Downloading kiwisolver-1.4.5-cp312-cp312-manylinux_2_17_x86_64.manylinux2014_x86_64.whl.metadata (6.4 kB)\n",
            "Requirement already satisfied: packaging>=20.0 in /usr/local/lib/python3.12/site-packages (from matplotlib~=3.0->cirq-core~=1.0->qsimcirq==0.21.0) (23.1)\n",
            "Collecting pillow>=8 (from matplotlib~=3.0->cirq-core~=1.0->qsimcirq==0.21.0)\n",
            "  Downloading pillow-10.3.0-cp312-cp312-manylinux_2_28_x86_64.whl.metadata (9.2 kB)\n",
            "Collecting pyparsing>=2.3.1 (from matplotlib~=3.0->cirq-core~=1.0->qsimcirq==0.21.0)\n",
            "  Downloading pyparsing-3.1.2-py3-none-any.whl.metadata (5.1 kB)\n",
            "Collecting python-dateutil>=2.7 (from matplotlib~=3.0->cirq-core~=1.0->qsimcirq==0.21.0)\n",
            "  Downloading python_dateutil-2.9.0.post0-py2.py3-none-any.whl.metadata (8.4 kB)\n",
            "Collecting pytz>=2020.1 (from pandas->cirq-core~=1.0->qsimcirq==0.21.0)\n",
            "  Downloading pytz-2024.1-py2.py3-none-any.whl.metadata (22 kB)\n",
            "Collecting tzdata>=2022.7 (from pandas->cirq-core~=1.0->qsimcirq==0.21.0)\n",
            "  Downloading tzdata-2024.1-py2.py3-none-any.whl.metadata (1.4 kB)\n",
            "Collecting mpmath>=0.19 (from sympy->cirq-core~=1.0->qsimcirq==0.21.0)\n",
            "  Downloading mpmath-1.3.0-py3-none-any.whl.metadata (8.6 kB)\n",
            "Collecting six>=1.5 (from python-dateutil>=2.7->matplotlib~=3.0->cirq-core~=1.0->qsimcirq==0.21.0)\n",
            "  Downloading six-1.16.0-py2.py3-none-any.whl.metadata (1.8 kB)\n",
            "Downloading qsimcirq-0.21.0-cp312-cp312-manylinux_2_17_x86_64.manylinux2014_x86_64.whl (1.6 MB)\n",
            "\u001b[2K   \u001b[90m━━━━━━━━━━━━━━━━━━━━━━━━━━━━━━━━━━━━━━━━\u001b[0m \u001b[32m1.6/1.6 MB\u001b[0m \u001b[31m14.7 MB/s\u001b[0m eta \u001b[36m0:00:00\u001b[0m\n",
            "\u001b[?25hDownloading cirq_core-1.3.0-py3-none-any.whl (1.8 MB)\n",
            "\u001b[2K   \u001b[90m━━━━━━━━━━━━━━━━━━━━━━━━━━━━━━━━━━━━━━━━\u001b[0m \u001b[32m1.8/1.8 MB\u001b[0m \u001b[31m59.0 MB/s\u001b[0m eta \u001b[36m0:00:00\u001b[0m\n",
            "\u001b[?25hDownloading numpy-1.26.4-cp312-cp312-manylinux_2_17_x86_64.manylinux2014_x86_64.whl (18.0 MB)\n",
            "\u001b[2K   \u001b[90m━━━━━━━━━━━━━━━━━━━━━━━━━━━━━━━━━━━━━━━━\u001b[0m \u001b[32m18.0/18.0 MB\u001b[0m \u001b[31m43.7 MB/s\u001b[0m eta \u001b[36m0:00:00\u001b[0m\n",
            "\u001b[?25hDownloading typing_extensions-4.11.0-py3-none-any.whl (34 kB)\n",
            "Using cached absl_py-2.1.0-py3-none-any.whl (133 kB)\n",
            "Using cached pybind11-2.12.0-py3-none-any.whl (234 kB)\n",
            "Downloading duet-0.2.9-py3-none-any.whl (29 kB)\n",
            "Downloading matplotlib-3.8.4-cp312-cp312-manylinux_2_17_x86_64.manylinux2014_x86_64.whl (11.6 MB)\n",
            "\u001b[2K   \u001b[90m━━━━━━━━━━━━━━━━━━━━━━━━━━━━━━━━━━━━━━━━\u001b[0m \u001b[32m11.6/11.6 MB\u001b[0m \u001b[31m52.7 MB/s\u001b[0m eta \u001b[36m0:00:00\u001b[0m\n",
            "\u001b[?25hDownloading networkx-3.3-py3-none-any.whl (1.7 MB)\n",
            "\u001b[2K   \u001b[90m━━━━━━━━━━━━━━━━━━━━━━━━━━━━━━━━━━━━━━━━\u001b[0m \u001b[32m1.7/1.7 MB\u001b[0m \u001b[31m78.2 MB/s\u001b[0m eta \u001b[36m0:00:00\u001b[0m\n",
            "\u001b[?25hDownloading sortedcontainers-2.4.0-py2.py3-none-any.whl (29 kB)\n",
            "Downloading pandas-2.2.2-cp312-cp312-manylinux_2_17_x86_64.manylinux2014_x86_64.whl (12.7 MB)\n",
            "\u001b[2K   \u001b[90m━━━━━━━━━━━━━━━━━━━━━━━━━━━━━━━━━━━━━━━━\u001b[0m \u001b[32m12.7/12.7 MB\u001b[0m \u001b[31m45.3 MB/s\u001b[0m eta \u001b[36m0:00:00\u001b[0m\n",
            "\u001b[?25hDownloading scipy-1.13.0-cp312-cp312-manylinux_2_17_x86_64.manylinux2014_x86_64.whl (38.2 MB)\n",
            "\u001b[2K   \u001b[90m━━━━━━━━━━━━━━━━━━━━━━━━━━━━━━━━━━━━━━━━\u001b[0m \u001b[32m38.2/38.2 MB\u001b[0m \u001b[31m16.1 MB/s\u001b[0m eta \u001b[36m0:00:00\u001b[0m\n",
            "\u001b[?25hDownloading sympy-1.12-py3-none-any.whl (5.7 MB)\n",
            "\u001b[2K   \u001b[90m━━━━━━━━━━━━━━━━━━━━━━━━━━━━━━━━━━━━━━━━\u001b[0m \u001b[32m5.7/5.7 MB\u001b[0m \u001b[31m55.9 MB/s\u001b[0m eta \u001b[36m0:00:00\u001b[0m\n",
            "\u001b[?25hDownloading contourpy-1.2.1-cp312-cp312-manylinux_2_17_x86_64.manylinux2014_x86_64.whl (309 kB)\n",
            "\u001b[2K   \u001b[90m━━━━━━━━━━━━━━━━━━━━━━━━━━━━━━━━━━━━━━━━\u001b[0m \u001b[32m309.2/309.2 kB\u001b[0m \u001b[31m28.3 MB/s\u001b[0m eta \u001b[36m0:00:00\u001b[0m\n",
            "\u001b[?25hDownloading cycler-0.12.1-py3-none-any.whl (8.3 kB)\n",
            "Downloading fonttools-4.51.0-cp312-cp312-manylinux_2_5_x86_64.manylinux1_x86_64.manylinux_2_17_x86_64.manylinux2014_x86_64.whl (4.9 MB)\n",
            "\u001b[2K   \u001b[90m━━━━━━━━━━━━━━━━━━━━━━━━━━━━━━━━━━━━━━━━\u001b[0m \u001b[32m4.9/4.9 MB\u001b[0m \u001b[31m65.0 MB/s\u001b[0m eta \u001b[36m0:00:00\u001b[0m\n",
            "\u001b[?25hDownloading kiwisolver-1.4.5-cp312-cp312-manylinux_2_17_x86_64.manylinux2014_x86_64.whl (1.5 MB)\n",
            "\u001b[2K   \u001b[90m━━━━━━━━━━━━━━━━━━━━━━━━━━━━━━━━━━━━━━━━\u001b[0m \u001b[32m1.5/1.5 MB\u001b[0m \u001b[31m76.5 MB/s\u001b[0m eta \u001b[36m0:00:00\u001b[0m\n",
            "\u001b[?25hDownloading mpmath-1.3.0-py3-none-any.whl (536 kB)\n",
            "\u001b[2K   \u001b[90m━━━━━━━━━━━━━━━━━━━━━━━━━━━━━━━━━━━━━━━━\u001b[0m \u001b[32m536.2/536.2 kB\u001b[0m \u001b[31m41.3 MB/s\u001b[0m eta \u001b[36m0:00:00\u001b[0m\n",
            "\u001b[?25hDownloading pillow-10.3.0-cp312-cp312-manylinux_2_28_x86_64.whl (4.5 MB)\n",
            "\u001b[2K   \u001b[90m━━━━━━━━━━━━━━━━━━━━━━━━━━━━━━━━━━━━━━━━\u001b[0m \u001b[32m4.5/4.5 MB\u001b[0m \u001b[31m61.0 MB/s\u001b[0m eta \u001b[36m0:00:00\u001b[0m\n",
            "\u001b[?25hDownloading pyparsing-3.1.2-py3-none-any.whl (103 kB)\n",
            "\u001b[2K   \u001b[90m━━━━━━━━━━━━━━━━━━━━━━━━━━━━━━━━━━━━━━━━\u001b[0m \u001b[32m103.2/103.2 kB\u001b[0m \u001b[31m10.0 MB/s\u001b[0m eta \u001b[36m0:00:00\u001b[0m\n",
            "\u001b[?25hDownloading python_dateutil-2.9.0.post0-py2.py3-none-any.whl (229 kB)\n",
            "\u001b[2K   \u001b[90m━━━━━━━━━━━━━━━━━━━━━━━━━━━━━━━━━━━━━━━━\u001b[0m \u001b[32m229.9/229.9 kB\u001b[0m \u001b[31m21.4 MB/s\u001b[0m eta \u001b[36m0:00:00\u001b[0m\n",
            "\u001b[?25hDownloading pytz-2024.1-py2.py3-none-any.whl (505 kB)\n",
            "\u001b[2K   \u001b[90m━━━━━━━━━━━━━━━━━━━━━━━━━━━━━━━━━━━━━━━━\u001b[0m \u001b[32m505.5/505.5 kB\u001b[0m \u001b[31m41.8 MB/s\u001b[0m eta \u001b[36m0:00:00\u001b[0m\n",
            "\u001b[?25hDownloading tzdata-2024.1-py2.py3-none-any.whl (345 kB)\n",
            "\u001b[2K   \u001b[90m━━━━━━━━━━━━━━━━━━━━━━━━━━━━━━━━━━━━━━━━\u001b[0m \u001b[32m345.4/345.4 kB\u001b[0m \u001b[31m29.6 MB/s\u001b[0m eta \u001b[36m0:00:00\u001b[0m\n",
            "\u001b[?25hDownloading six-1.16.0-py2.py3-none-any.whl (11 kB)\n",
            "Installing collected packages: sortedcontainers, pytz, mpmath, tzdata, typing-extensions, sympy, six, pyparsing, pybind11, pillow, numpy, networkx, kiwisolver, fonttools, duet, cycler, absl-py, scipy, python-dateutil, contourpy, pandas, matplotlib, cirq-core, qsimcirq\n",
            "Successfully installed absl-py-2.1.0 cirq-core-1.3.0 contourpy-1.2.1 cycler-0.12.1 duet-0.2.9 fonttools-4.51.0 kiwisolver-1.4.5 matplotlib-3.8.4 mpmath-1.3.0 networkx-3.3 numpy-1.26.4 pandas-2.2.2 pillow-10.3.0 pybind11-2.12.0 pyparsing-3.1.2 python-dateutil-2.9.0.post0 pytz-2024.1 qsimcirq-0.21.0 scipy-1.13.0 six-1.16.0 sortedcontainers-2.4.0 sympy-1.12 typing-extensions-4.11.0 tzdata-2024.1\n",
            "\u001b[33mWARNING: Running pip as the 'root' user can result in broken permissions and conflicting behaviour with the system package manager. It is recommended to use a virtual environment instead: https://pip.pypa.io/warnings/venv\u001b[0m\u001b[33m\n",
            "\u001b[0m"
          ]
        },
        {
          "output_type": "display_data",
          "data": {
            "application/vnd.colab-display-data+json": {
              "pip_warning": {
                "packages": [
                  "cycler",
                  "kiwisolver",
                  "mpmath",
                  "networkx",
                  "six",
                  "sympy"
                ]
              },
              "id": "eedcb56b6c3a42268897aadb576a35cd"
            }
          },
          "metadata": {}
        }
      ]
    },
    {
      "source": [
        "Noisy gates in Cirq are represented by `Channel`s, which can act as one of a set of gates depending on the state of the circuit. The [Cirq tutorial on noise](https://quantumai.google/cirq/noise) explains how to construct these objects and add them to your circuits.\n",
        "\n",
        "## Setup\n",
        "\n",
        "Install the Cirq and qsimcirq packages:"
      ],
      "cell_type": "markdown",
      "metadata": {
        "id": "Udks3sD0PiDr"
      }
    },
    {
      "cell_type": "code",
      "execution_count": 14,
      "metadata": {
        "id": "SYGiPETRPiDr"
      },
      "outputs": [],
      "source": [
        "import cirq\n",
        "import qsimcirq"
      ]
    },
    {
      "source": [
        "It is possible to simulate channels with density matrices, which combine all possible channel behaviors, but the overhead is steep: a density matrix requires O(4^N) storage for N qubits.\n",
        "\n",
        "In qsimcirq, noisy circuits are instead simulated as \"trajectories\": the behavior of each `Channel` is determined probabilistically at runtime. This permits much larger simulations at the cost of only capturing one such \"trajectory\" per execution.\n",
        "\n",
        "## Performance\n",
        "\n",
        "Noisy circuits tend to be more expensive to simulate than their noiseless equivalents, but qsim is optimized to avoid these overheads when possible. In particular, the less incoherent noise (i.e. non-unitary effects) that a `Channel` has, the closer its performance will be to the noiseless case for a single repetition.\n",
        "\n",
        "Simulating many repetitions of a noisy circuit requires executing the entire circuit once for each repetition due to the nondeterministic nature of noisy operations."
      ],
      "cell_type": "markdown",
      "metadata": {
        "id": "awLOr5IAPiDs"
      }
    },
    {
      "source": [
        "## Constructing noisy circuits\n",
        "\n",
        "Cirq provides a number of tools for constructing noisy circuits. For the purpose of this tutorial, we will focus on two common types of noise: T1 (\"amplitude damping\") and T2 (\"phase damping\"). These can be created in Cirq with `cirq.amplitude_damp` and `cirq.phase_damp`, as shown below:"
      ],
      "cell_type": "markdown",
      "metadata": {
        "id": "gBxHRm8HPiDs"
      }
    },
    {
      "cell_type": "code",
      "execution_count": 25,
      "metadata": {
        "id": "9jfZJ1WmPiDs"
      },
      "outputs": [],
      "source": [
        "q0, q1 = cirq.LineQubit.range(2)\n",
        "\n",
        "circuit = cirq.Circuit(\n",
        "    # Perform a Hadamard on both qubits\n",
        "    cirq.H(q0), cirq.H(q1),\n",
        "    # Apply amplitude damping to q0 with probability 0.1\n",
        "    cirq.amplitude_damp(gamma=0.1).on(q0),\n",
        "    # Apply phase damping to q1 with probability 0.1\n",
        "    cirq.phase_damp(gamma=0.1).on(q1),\n",
        ")"
      ]
    },
    {
      "source": [
        "## Simulating noisy circuits\n",
        "\n",
        "Simulating this circuit works exactly the same as simulating a noiseless circuit: simply construct a simulator object and simulate. `QSimSimulator` will automatically switch over to the noisy simulator if it detects noise (i.e. `Channel`s) in your circuit."
      ],
      "cell_type": "markdown",
      "metadata": {
        "id": "q4Lp-STlPiDs"
      }
    },
    {
      "cell_type": "code",
      "execution_count": 26,
      "metadata": {
        "colab": {
          "base_uri": "https://localhost:8080/"
        },
        "id": "mSL9oKbhPiDs",
        "outputId": "581128f6-87f6-4fcf-f4fe-b1b997094472"
      },
      "outputs": [
        {
          "output_type": "stream",
          "name": "stdout",
          "text": [
            "[0.52631575+0.j 0.499307  +0.j 0.49930704+0.j 0.47368425+0.j]\n"
          ]
        }
      ],
      "source": [
        "qsim_simulator = qsimcirq.QSimSimulator()\n",
        "results = qsim_simulator.simulate(circuit)\n",
        "print(results.final_state_vector)"
      ]
    },
    {
      "source": [
        "It's important to note that unlike density-matrix simulations, this result (from a single repetition) is stochastic in nature. Running the circuit multiple times may yield different results, but each result generated is a possible outcome of the provided circuit."
      ],
      "cell_type": "markdown",
      "metadata": {
        "id": "RLuiIKzrPiDt"
      }
    },
    {
      "source": [
        "## Other simulation modes\n",
        "\n",
        "Noisy circuit simulation in qsimcirq supports all of the same simulation modes as the noiseless simulator, including:\n",
        "\n",
        "### Measurement Sampling"
      ],
      "cell_type": "markdown",
      "metadata": {
        "id": "2W63DnhqPiDt"
      }
    },
    {
      "source": [
        "# Simulate measuring at the end of the circuit.\n",
        "measured_circuit = circuit + cirq.measure(q0, q1, key='m')\n",
        "measure_results = qsim_simulator.run(measured_circuit, repetitions=5)\n",
        "print(measure_results)"
      ],
      "cell_type": "code",
      "metadata": {
        "colab": {
          "base_uri": "https://localhost:8080/"
        },
        "id": "Qslj6payPiDt",
        "outputId": "56c6760c-040e-465b-d3aa-91b036772554"
      },
      "execution_count": 27,
      "outputs": [
        {
          "output_type": "stream",
          "name": "stdout",
          "text": [
            "m=10010, 11000\n"
          ]
        }
      ]
    },
    {
      "source": [
        "### Amplitude evaluation"
      ],
      "cell_type": "markdown",
      "metadata": {
        "id": "ppjMU3RXPiDu"
      }
    },
    {
      "cell_type": "code",
      "execution_count": 28,
      "metadata": {
        "colab": {
          "base_uri": "https://localhost:8080/"
        },
        "id": "oipLm9zSPiDu",
        "outputId": "28dd1623-c52c-4608-e3f0-998f418eea03"
      },
      "outputs": [
        {
          "output_type": "stream",
          "name": "stdout",
          "text": [
            "[(0.5263157486915588+0j), (0.4993070065975189+0j)]\n"
          ]
        }
      ],
      "source": [
        "# Calculate only the amplitudes of the |00) and |01) states.\n",
        "amp_results = qsim_simulator.compute_amplitudes(\n",
        "    circuit, bitstrings=[0b00, 0b01])\n",
        "print(amp_results)"
      ]
    },
    {
      "source": [
        "### Expectation values\n",
        "\n",
        "Expectation values can only be estimated from trajectories, but the accuracy of these estimates can be increased by simulating the circuit additional times. This is demonstrated below."
      ],
      "cell_type": "markdown",
      "metadata": {
        "id": "tUxTFvnjPiDu"
      }
    },
    {
      "cell_type": "code",
      "execution_count": 31,
      "metadata": {
        "colab": {
          "base_uri": "https://localhost:8080/"
        },
        "id": "4BO9wAA1PiDv",
        "outputId": "6ce0ef56-051f-430a-c204-a1e132ae2c2e"
      },
      "outputs": [
        {
          "output_type": "stream",
          "name": "stdout",
          "text": [
            "[(0.1378946301341057+0j), (0.9386972016096116+0j)]\n"
          ]
        }
      ],
      "source": [
        "# Set the \"noisy repetitions\" to 100.\n",
        "# This parameter only affects expectation value calculations.\n",
        "#options = {'r': 100}\n",
        "options = qsimcirq.QSimOptions(ev_noisy_repetitions=100, gpu_mode=1)\n",
        "# Also set the random seed to get reproducible results.\n",
        "ev_simulator = qsimcirq.QSimSimulator(qsim_options=options, seed=1)\n",
        "# Define observables to measure: <Z> for q0 and <X> for q1.\n",
        "pauli_sum1 = cirq.Z(q0)\n",
        "pauli_sum2 = cirq.X(q1)\n",
        "# Calculate expectation values for the given observables.\n",
        "ev_results = ev_simulator.simulate_expectation_values(\n",
        "    circuit,\n",
        "    observables=[pauli_sum1, pauli_sum2],\n",
        ")\n",
        "print(ev_results)"
      ]
    },
    {
      "source": [
        "The output is a list of expectation values, one for each observable."
      ],
      "cell_type": "markdown",
      "metadata": {
        "id": "jzLna9OoPiDv"
      }
    }
  ]
}